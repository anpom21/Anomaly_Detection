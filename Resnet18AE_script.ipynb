{
 "cells": [
  {
   "cell_type": "code",
   "execution_count": null,
   "id": "33db2f40",
   "metadata": {},
   "outputs": [
    {
     "name": "stdout",
     "output_type": "stream",
     "text": [
      "Train dataset size: 80\n",
      "torch.Size([4, 224, 224])\n",
      "Input shape: torch.Size([1, 4, 224, 224])\n",
      "Output shape: torch.Size([1, 384, 28, 28])\n"
     ]
    }
   ],
   "source": [
    "from models.Resnet18_CAE import resnet18_feature_extractor, resnet18_autoencoder\n",
    "from src.Dataloader import Dataloader \n",
    "import torch\n",
    "\n",
    "\n",
    "\n",
    "\n",
    "device = torch.device(\"cuda\" if torch.cuda.is_available() else \"cpu\")\n",
    "n_images = 4\n",
    "extractor = resnet18_feature_extractor(n_images)\n",
    "extractor = extractor.to(device)\n",
    "model = resnet18_autoencoder(n_images)\n",
    "model = model.to(device)\n",
    "dataloader = Dataloader(\"Datasets/Dataset002\")\n",
    "\n",
    "BS = 16\n",
    "train_loader, vali_loader, test_loader = dataloader.load_train_vali_test_dataloaders_with_n_images(n_images = n_images, BS=BS)\n",
    "\n",
    "print('Train dataset size:', len(train_loader.dataset))\n",
    "print(train_loader.dataset[0].shape)\n",
    "\n",
    "images = dataloader.get_images(dataloader.path + \"\\Train\", n_images=4)\n",
    "\n",
    "images = torch.tensor(images, dtype=torch.float32)\n",
    "image = images[0].unsqueeze(0)\n",
    "output = extractor(image.cuda())\n",
    "\n",
    "print(\"Input shape:\", image.shape)\n",
    "print(\"Output shape:\", output.shape)\n",
    "\n"
   ]
  }
 ],
 "metadata": {
  "kernelspec": {
   "display_name": "Python 3",
   "language": "python",
   "name": "python3"
  },
  "language_info": {
   "codemirror_mode": {
    "name": "ipython",
    "version": 3
   },
   "file_extension": ".py",
   "mimetype": "text/x-python",
   "name": "python",
   "nbconvert_exporter": "python",
   "pygments_lexer": "ipython3",
   "version": "3.10.11"
  }
 },
 "nbformat": 4,
 "nbformat_minor": 5
}
